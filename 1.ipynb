{
 "cells": [
  {
   "cell_type": "code",
   "execution_count": null,
   "metadata": {},
   "outputs": [],
   "source": [
    "\n",
    "type = int(input(\"Please select the type of your firgue: 1.square 2.rectangle 3.circle 4.trapezoid 5.right triangle\"))\n",
    "if type == 1:\n",
    "    len = int(input(\"Please input the length of the square (integer only)\"))\n",
    "    result = len*len\n",
    "    print(\"The area of given square is \" + str(result))\n",
    "elif type == 2:\n",
    "    width = int(input(\"Please input the width of the rectangle (integer only)\"))\n",
    "    height = int(input(\"Please input the height of the rectangle (integer only)\"))\n",
    "    result = width*height\n",
    "    print(\"The area of given rectangle is \" + str(result))"
   ]
  }
 ],
 "metadata": {
  "kernelspec": {
   "display_name": "Python 3",
   "language": "python",
   "name": "python3"
  },
  "language_info": {
   "codemirror_mode": {
    "name": "ipython",
    "version": 3
   },
   "file_extension": ".py",
   "mimetype": "text/x-python",
   "name": "python",
   "nbconvert_exporter": "python",
   "pygments_lexer": "ipython3",
   "version": "3.8.9"
  },
  "orig_nbformat": 4,
  "vscode": {
   "interpreter": {
    "hash": "31f2aee4e71d21fbe5cf8b01ff0e069b9275f58929596ceb00d14d90e3e16cd6"
   }
  }
 },
 "nbformat": 4,
 "nbformat_minor": 2
}
