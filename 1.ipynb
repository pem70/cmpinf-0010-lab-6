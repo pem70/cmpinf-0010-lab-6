{
 "cells": [
  {
   "cell_type": "code",
   "execution_count": 2,
   "metadata": {},
   "outputs": [
    {
     "name": "stdout",
     "output_type": "stream",
     "text": [
      "You should input a shape from the five choices\n"
     ]
    }
   ],
   "source": [
    "\n",
    "type = int(input(\"Please select the type of your firgue: 1.square 2.rectangle 3.circle 4.trapezoid 5.right triangle\"))\n",
    "if type == 1:\n",
    "    len = int(input(\"Please input the length of the square (integer only)\"))\n",
    "    result = len*len\n",
    "    print(\"The area of given square is \" + str(result))\n",
    "elif type == 2:\n",
    "    width = int(input(\"Please input the width of the rectangle (integer only)\"))\n",
    "    height = int(input(\"Please input the height of the rectangle (integer only)\"))\n",
    "    result = width*height\n",
    "    print(\"The area of given rectangle is \" + str(result))\n",
    "elif type == 3:\n",
    "    radius = int(input(\"Please input the radius of the circle (integer only)\"))\n",
    "    result = radius*radius*3.14\n",
    "    print(\"The area of given circle is \" + str(result))\n",
    "elif type == 4:\n",
    "    side1 = int(input(\"Please input the side 1 of the trapezoid (integer only)\"))\n",
    "    side2 = int(input(\"Please input the side 2 of the trapezoid (integer only)\"))\n",
    "    height = int(input(\"Please input the height of the trapezoid (integer only)\"))\n",
    "    result = ((side1+side2)*height)/2\n",
    "    print(\"The area of given trapezoid is \" + str(result))\n",
    "elif type == 5:\n",
    "    sidea = int(input(\"Please input the side a of the right triangle (integer only)\"))\n",
    "    sideb = int(input(\"Please input the side b of the right triangle (integer only)\"))\n",
    "    result = (sidea*sideb)/2\n",
    "    print(\"The area of given right triangle is \" + str(result))\n",
    "else: print(\"You should input a shape from the five choices\")"
   ]
  },
  {
   "cell_type": "code",
   "execution_count": null,
   "metadata": {},
   "outputs": [],
   "source": []
  }
 ],
 "metadata": {
  "kernelspec": {
   "display_name": "Python 3",
   "language": "python",
   "name": "python3"
  },
  "language_info": {
   "codemirror_mode": {
    "name": "ipython",
    "version": 3
   },
   "file_extension": ".py",
   "mimetype": "text/x-python",
   "name": "python",
   "nbconvert_exporter": "python",
   "pygments_lexer": "ipython3",
   "version": "3.9.6"
  },
  "orig_nbformat": 4,
  "vscode": {
   "interpreter": {
    "hash": "31f2aee4e71d21fbe5cf8b01ff0e069b9275f58929596ceb00d14d90e3e16cd6"
   }
  }
 },
 "nbformat": 4,
 "nbformat_minor": 2
}
